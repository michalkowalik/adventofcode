{
 "cells": [
  {
   "cell_type": "code",
   "execution_count": 1,
   "metadata": {},
   "outputs": [],
   "source": [
    "with open(\"input5.txt\") as f:\n",
    "    data = f.readlines()"
   ]
  },
  {
   "cell_type": "code",
   "execution_count": 2,
   "metadata": {},
   "outputs": [],
   "source": [
    "data = data[0].rstrip()"
   ]
  },
  {
   "cell_type": "markdown",
   "metadata": {},
   "source": [
    "## loop through the data, remove doubles:"
   ]
  },
  {
   "cell_type": "code",
   "execution_count": 3,
   "metadata": {},
   "outputs": [],
   "source": [
    "def is_reactable(a, b):\n",
    "    if a.isupper() and a.lower() == b:\n",
    "        return True\n",
    "    if b.isupper() and b.lower() == a:\n",
    "        return True\n",
    "    return False"
   ]
  },
  {
   "cell_type": "code",
   "execution_count": 4,
   "metadata": {},
   "outputs": [],
   "source": [
    "res = ''\n",
    "i = 0"
   ]
  },
  {
   "cell_type": "code",
   "execution_count": 5,
   "metadata": {},
   "outputs": [],
   "source": [
    "def react(d):\n",
    "    l = len(d)\n",
    "    res = ''\n",
    "    i = 0\n",
    "    while i < l - 1:\n",
    "        if is_reactable(d[i], d[i + 1]):\n",
    "            i = i + 2\n",
    "        else:\n",
    "            res += d[i]\n",
    "            i += 1       \n",
    "    # last element:\n",
    "    if not is_reactable(d[-2], d[-1]):\n",
    "            res += d[-1]\n",
    "    return res"
   ]
  },
  {
   "cell_type": "code",
   "execution_count": null,
   "metadata": {},
   "outputs": [],
   "source": [
    "res = react(data)"
   ]
  },
  {
   "cell_type": "code",
   "execution_count": null,
   "metadata": {},
   "outputs": [],
   "source": [
    "len(res)"
   ]
  },
  {
   "cell_type": "code",
   "execution_count": null,
   "metadata": {},
   "outputs": [],
   "source": [
    "res[-1]"
   ]
  },
  {
   "cell_type": "code",
   "execution_count": null,
   "metadata": {},
   "outputs": [],
   "source": [
    "while True:\n",
    "    res = react(data)\n",
    "    if len(res) == len(data):\n",
    "        break\n",
    "    data = res"
   ]
  },
  {
   "cell_type": "code",
   "execution_count": null,
   "metadata": {},
   "outputs": [],
   "source": [
    "print(\"Part 1 result: {0}\".format(len(res)))"
   ]
  },
  {
   "cell_type": "markdown",
   "metadata": {},
   "source": [
    "## small test:"
   ]
  },
  {
   "cell_type": "code",
   "execution_count": null,
   "metadata": {},
   "outputs": [],
   "source": [
    "test = 'dabAcCaCBAcCcaDDAAaa'\n"
   ]
  },
  {
   "cell_type": "code",
   "execution_count": null,
   "metadata": {},
   "outputs": [],
   "source": [
    "while True:\n",
    "    res_test = react(test)\n",
    "    if len(res_test) == len(test):\n",
    "        break\n",
    "    test = res_test\n",
    "    \n",
    "res_test"
   ]
  },
  {
   "cell_type": "markdown",
   "metadata": {},
   "source": [
    "## Part 2:"
   ]
  },
  {
   "cell_type": "code",
   "execution_count": 6,
   "metadata": {},
   "outputs": [],
   "source": [
    "test2='dabAcCaCBAcCcaDA'"
   ]
  },
  {
   "cell_type": "code",
   "execution_count": 7,
   "metadata": {},
   "outputs": [],
   "source": [
    "import re"
   ]
  },
  {
   "cell_type": "code",
   "execution_count": 8,
   "metadata": {},
   "outputs": [],
   "source": [
    "r = re.compile('[aA]')"
   ]
  },
  {
   "cell_type": "code",
   "execution_count": null,
   "metadata": {},
   "outputs": [],
   "source": [
    "chr(ord('a')).upper()"
   ]
  },
  {
   "cell_type": "code",
   "execution_count": 9,
   "metadata": {},
   "outputs": [],
   "source": [
    "def full_reduce(d):\n",
    "    res = ''\n",
    "    while True:\n",
    "        res = react(d)\n",
    "        if len(res) == len(d):\n",
    "            break\n",
    "        d = res\n",
    "    return res"
   ]
  },
  {
   "cell_type": "code",
   "execution_count": 10,
   "metadata": {},
   "outputs": [
    {
     "name": "stdout",
     "output_type": "stream",
     "text": [
      "a : 10318\n",
      "b : 10300\n",
      "c : 10270\n",
      "d : 10324\n",
      "e : 10372\n",
      "f : 10362\n",
      "g : 10320\n",
      "h : 10336\n",
      "i : 10374\n",
      "j : 10322\n",
      "k : 10352\n",
      "l : 10414\n",
      "m : 10332\n",
      "n : 10344\n",
      "o : 10364\n",
      "p : 10364\n",
      "q : 10374\n",
      "r : 10370\n",
      "s : 10314\n",
      "t : 10332\n",
      "u : 10342\n",
      "v : 5122\n",
      "w : 10334\n",
      "x : 10380\n",
      "y : 10294\n"
     ]
    }
   ],
   "source": [
    "shortest = len(data)\n",
    "for a in range(ord('a'), ord('z')):\n",
    "    reg = re.compile(\"[\"+ chr(a)+ chr(a).upper()+ \"]\")\n",
    "    res = full_reduce(reg.sub('', data))\n",
    "    if len(res) < shortest:\n",
    "        shortest = len(res)\n",
    "    print(\"{0} : {1}\".format(chr(a), len(res)))"
   ]
  },
  {
   "cell_type": "code",
   "execution_count": 11,
   "metadata": {},
   "outputs": [
    {
     "data": {
      "text/plain": [
       "5122"
      ]
     },
     "execution_count": 11,
     "metadata": {},
     "output_type": "execute_result"
    }
   ],
   "source": [
    "shortest"
   ]
  }
 ],
 "metadata": {
  "kernelspec": {
   "display_name": "Python 3",
   "language": "python",
   "name": "python3"
  },
  "language_info": {
   "codemirror_mode": {
    "name": "ipython",
    "version": 3
   },
   "file_extension": ".py",
   "mimetype": "text/x-python",
   "name": "python",
   "nbconvert_exporter": "python",
   "pygments_lexer": "ipython3",
   "version": "3.7.0"
  }
 },
 "nbformat": 4,
 "nbformat_minor": 2
}
