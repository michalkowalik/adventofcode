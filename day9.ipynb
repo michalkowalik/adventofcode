{
 "cells": [
  {
   "cell_type": "markdown",
   "metadata": {},
   "source": [
    "# Day 9"
   ]
  },
  {
   "cell_type": "code",
   "execution_count": 7,
   "metadata": {},
   "outputs": [],
   "source": [
    "from collections import deque, defaultdict"
   ]
  },
  {
   "cell_type": "code",
   "execution_count": 4,
   "metadata": {},
   "outputs": [],
   "source": [
    "# some data:\n",
    "players = 411\n",
    "last_marble = 71170"
   ]
  },
  {
   "cell_type": "code",
   "execution_count": 8,
   "metadata": {},
   "outputs": [],
   "source": [
    "circle = [0, 2, 1]\n",
    "current = 2\n",
    "current_index = 1\n",
    "points = defaultdict(int)"
   ]
  },
  {
   "cell_type": "code",
   "execution_count": null,
   "metadata": {},
   "outputs": [],
   "source": [
    "# "
   ]
  },
  {
   "cell_type": "code",
   "execution_count": 9,
   "metadata": {},
   "outputs": [],
   "source": [
    "circle = deque(circle)"
   ]
  },
  {
   "cell_type": "code",
   "execution_count": 10,
   "metadata": {},
   "outputs": [],
   "source": [
    "for i in range(3, last_marble + 1):\n",
    "    if i % 23 == 0:\n",
    "        circle.rotate(7)\n",
    "        points[i % players] += i + circle.pop()\n",
    "        circle.rotate(-1)\n",
    "    else:\n",
    "        circle.rotate(-1)\n",
    "        circle.append(i)"
   ]
  },
  {
   "cell_type": "code",
   "execution_count": null,
   "metadata": {},
   "outputs": [],
   "source": [
    "for i in range(3, last_marble + 1):\n",
    "    current = i\n",
    "    current_player = i % players\n",
    "    \n",
    "    if i % 100000 == 0:\n",
    "        print(i)\n",
    "    \n",
    "    if i % 23 == 0:\n",
    "        index_to_remove = current_index - 7\n",
    "        if index_to_remove < 0:\n",
    "            index_to_remove = len(circle) + index_to_remove\n",
    "            print(\"negative index, final index: %d\" % index_to_remove)\n",
    "        \n",
    "        marble_to_remove = circle[index_to_remove]\n",
    "        # print(\"------------------------------------\")\n",
    "        # print(\"circle length: %d\" % len(circle))\n",
    "        # print(\"current index: \" + str(current_index))\n",
    "        # print(\"marble to remove: \" + str(marble_to_remove))\n",
    "        # print(\"index to remove %d\" % index_to_remove)\n",
    "        # print(\"player {0} keeps {1} and takes {2}\".format(current_player, current, marble_to_remove))\n",
    "                    \n",
    "        del(circle[index_to_remove])\n",
    "        \n",
    "        current_index = (index_to_remove) % len(circle)\n",
    "        # print(\"current index after removal: %d, current: %d\" % (current_index, circle[current_index]))\n",
    "        \n",
    "        if current_player in points.keys():\n",
    "            points[current_player] += current + marble_to_remove\n",
    "        else:\n",
    "            points[current_player] = current + marble_to_remove\n",
    "        # print(circle)\n",
    "    else:\n",
    "        current_index = (current_index + 1) % len(circle) +1\n",
    "        circle.insert(current_index, current)\n",
    "        # print(\"Player {0} added marble {1}. circle: {2}\".format(current_player, current, circle))\n",
    "        \n",
    "# points        "
   ]
  },
  {
   "cell_type": "code",
   "execution_count": 11,
   "metadata": {},
   "outputs": [
    {
     "data": {
      "text/plain": [
       "3526561003"
      ]
     },
     "execution_count": 11,
     "metadata": {},
     "output_type": "execute_result"
    }
   ],
   "source": [
    "max(points.values())"
   ]
  }
 ],
 "metadata": {
  "kernelspec": {
   "display_name": "Python 3",
   "language": "python",
   "name": "python3"
  },
  "language_info": {
   "codemirror_mode": {
    "name": "ipython",
    "version": 3
   },
   "file_extension": ".py",
   "mimetype": "text/x-python",
   "name": "python",
   "nbconvert_exporter": "python",
   "pygments_lexer": "ipython3",
   "version": "3.7.0"
  }
 },
 "nbformat": 4,
 "nbformat_minor": 2
}
